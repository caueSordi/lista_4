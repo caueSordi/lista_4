{
 "cells": [
  {
   "cell_type": "code",
   "execution_count": null,
   "metadata": {},
   "outputs": [],
   "source": []
  },
  {
   "cell_type": "markdown",
   "metadata": {},
   "source": [
    "## Lista_04\n"
   ]
  },
  {
   "cell_type": "code",
   "execution_count": 1,
   "metadata": {},
   "outputs": [],
   "source": [
    "#imports\n",
    "import numpy as np\n",
    "import scipy as scp\n",
    "import matplotlib.pyplot as plt\n",
    "import time"
   ]
  },
  {
   "cell_type": "markdown",
   "metadata": {},
   "source": [
    "### ex 01\n"
   ]
  },
  {
   "cell_type": "code",
   "execution_count": 2,
   "metadata": {},
   "outputs": [],
   "source": [
    "def francis(n, maxi, nook):\n",
    "    k = 0\n",
    "    e = 0\n",
    "    matriz_a = np.zeros((n, n))\n",
    "    V = np.identity(n)\n",
    "\n",
    "    # matriz randomica mas canonica\n",
    "    for i in range(n):\n",
    "        for j in range(i, n):\n",
    "            matriz_a[i, j] = matriz_a[j, i] = np.random.randint(0, 100)\n",
    "            \n",
    "            if i != j and abs(matriz_a[i, j]) > e:\n",
    "                e = abs(matriz_a[i, j])\n",
    "\n",
    "    while e > maxi and k < nook:\n",
    "        Q, R = scp.linalg.qr(matriz_a)\n",
    "\n",
    "        V = R @ V\n",
    "        matriz_a = Q @ R\n",
    "\n",
    "        # Recalculate e (maximum off-diagonal element)\n",
    "        e = 0\n",
    "        for i in range(n):\n",
    "            for j in range(i + 1, n):\n",
    "                if abs(matriz_a[i, j]) > e:\n",
    "                    e = abs(matriz_a[i, j])\n",
    "\n",
    "        k += 1\n",
    "\n",
    "    return matriz_a, V"
   ]
  },
  {
   "cell_type": "code",
   "execution_count": 3,
   "metadata": {},
   "outputs": [
    {
     "data": {
      "text/plain": [
       "[<matplotlib.lines.Line2D at 0x7f73a87040e0>]"
      ]
     },
     "execution_count": 3,
     "metadata": {},
     "output_type": "execute_result"
    },
    {
     "data": {
      "image/png": "[encoded data removed]",
      "text/plain": [
       "<Figure size 640x480 with 1 Axes>"
      ]
     },
     "metadata": {},
     "output_type": "display_data"
    }
   ],
   "source": [
    "N = [10, 100, 500, 1000]\n",
    "\n",
    "maxi = pow(10, 3)\n",
    "\n",
    "t = 10**-8\n",
    "\n",
    "\n",
    "lista = []\n",
    "\n",
    "for i in N:\n",
    "    t = time.time()\n",
    "    francis(i, maxi, t)\n",
    "    lista.append(time.time() - t)\n",
    "\n",
    "\n",
    "#grafico de n pela lista\n",
    "plt.plot(N, lista)"
   ]
  },
  {
   "cell_type": "markdown",
   "metadata": {},
   "source": [
    "### ex 02\n"
   ]
  },
  {
   "cell_type": "code",
   "execution_count": 4,
   "metadata": {},
   "outputs": [
    {
     "name": "stdout",
     "output_type": "stream",
     "text": [
      "MATRIZ GERADA:\n",
      " [[ 4.98  0.61 -2.06 -0.06  0.73 -0.27 -0.25  1.2   0.26 -0.23]\n",
      " [ 0.61  4.86 -1.55  0.63  0.29 -1.2   0.31  0.15 -1.06  0.81]\n",
      " [-2.06 -1.55  6.03  0.79  0.1   0.23  1.12  2.06  0.48 -0.56]\n",
      " [-0.06  0.63  0.79  4.55  0.99 -0.11 -0.82 -0.49  0.42  0.47]\n",
      " [ 0.73  0.29  0.1   0.99  6.77 -0.59  1.29 -0.63  0.19 -0.48]\n",
      " [-0.27 -1.2   0.23 -0.11 -0.59  3.39 -2.2  -0.83 -0.34 -0.32]\n",
      " [-0.25  0.31  1.12 -0.82  1.29 -2.2   7.81  0.49 -0.12 -0.23]\n",
      " [ 1.2   0.15  2.06 -0.49 -0.63 -0.83  0.49  5.57  0.77  1.73]\n",
      " [ 0.26 -1.06  0.48  0.42  0.19 -0.34 -0.12  0.77  5.85  0.3 ]\n",
      " [-0.23  0.81 -0.56  0.47 -0.48 -0.32 -0.23  1.73  0.3   5.2 ]]\n",
      "\n",
      "Autovalores calculados:\n",
      " [ 1.  2.  3.  4.  5.  6.  7.  8.  9. 10.]\n"
     ]
    }
   ],
   "source": [
    "import numpy as np\n",
    "import scipy.stats as scp\n",
    "\n",
    "def criar_matriz_autovalores(n, autovalores):\n",
    "\n",
    "    # Verificação de comprimento dos autovalores\n",
    "    if len(autovalores) != n:\n",
    "        raise ValueError(\"O número de autovalores deve ser igual à dimensão n da matriz.\")\n",
    "\n",
    "    # Criação da matriz diagonal D com os autovalores fornecidos\n",
    "    D = np.diag(autovalores)\n",
    "\n",
    "    # Geração de uma matriz ortogonal aleatória M\n",
    "    M = scp.ortho_group.rvs(n)\n",
    "\n",
    "    # Cálculo da matriz A usando a fórmula A = MDM^{-1}\n",
    "    A = M @ D @ np.linalg.inv(M)\n",
    "\n",
    "    return A\n",
    "\n",
    "# Teste da função\n",
    "n = 10\n",
    "autovalores = [1, 2, 3, 4, 5, 6, 7, 8, 9, 10]\n",
    "\n",
    "A = criar_matriz_autovalores(n, autovalores)\n",
    "print(\"MATRIZ GERADA:\\n\", np.round(A, 2))\n",
    "\n",
    "# Verificação dos autovalores da matriz gerada\n",
    "autovalores_calculados, _ = np.linalg.eigh(A)\n",
    "print(\"\\nAutovalores calculados:\\n\", np.round(autovalores_calculados, 2))\n"
   ]
  },
  {
   "cell_type": "code",
   "execution_count": null,
   "metadata": {},
   "outputs": [],
   "source": []
  },
  {
   "cell_type": "markdown",
   "metadata": {},
   "source": [
    "\n",
    "Dado o sistema dinâmico representado pela equação diferencial de segunda ordem:\n",
    "\n",
    "\\[\n",
    "Mw'' + Kw = 0\n",
    "\\]\n",
    "\n",
    "onde:\n",
    "- \\( M \\) é a matriz de massa,\n",
    "- \\( K \\) é a matriz de rigidez,\n",
    "- \\( w \\) é o vetor de deslocamentos.\n",
    "\n",
    "Assumimos uma solução para \\( w(t) \\) na forma de uma série de modos:\n",
    "\n",
    "\\[\n",
    "w(t) = \\sum_{k=1}^{n} \\Phi^{(k)} c_k \\sin(\\omega_k t + \\phi)\n",
    "\\]\n",
    "\n",
    "onde:\n",
    "- \\( \\Phi^{(k)} \\) são os autovetores (ou modos de vibração),\n",
    "- \\( c_k \\) são coeficientes constantes,\n",
    "- \\( \\omega_k \\) são as frequências naturais,\n",
    "- \\( \\phi \\) é a fase.\n",
    "\n",
    "Calculamos a segunda derivada de \\( w(t) \\):\n",
    "\n",
    "\\[\n",
    "w''(t) = -\\sum_{k=1}^{n} \\Phi^{(k)} c_k \\sin(\\omega_k t + \\phi) \\omega_k^2\n",
    "\\]\n",
    "\n",
    "Substituímos \\( w(t) \\) e \\( w''(t) \\) na equação original \\( Mw'' + Kw = 0 \\):\n",
    "\n",
    "\\[\n",
    "M \\left( -\\sum_{k=1}^{n} \\Phi^{(k)} c_k \\sin(\\omega_k t + \\phi) \\omega_k^2 \\right) + K \\sum_{k=1}^{n} \\ Phi^{(k)} c_k \\sin(\\omega_k t + \\phi) = 0\n",
    "]\n",
    "\n",
    "Fatorando o termo comum \\( \\sum_{k=1}^{n} \\Phi^{(k)} c_k \\sin(\\omega_k t + \\phi) \\):\n",
    "\n",
    "\\[\n",
    "-\\left( M \\sum_{k=1}^{n} \\Phi^{(k)} \\omega_k^2 \\right) c_k \\sin(\\omega_k t + \\phi) + \\left( K \\sum_{k=1}^{n} \\Phi^{(k)} \\right) c_k \\sin(\\omega_k t + \\phi) = 0\n",
    "\\]\n",
    "\n",
    "Para que esta expressão seja válida para qualquer valor de \\( t \\), os coeficientes dos termos \\( \\sin(\\omega_k t + \\phi) \\) devem ser iguais a zero:\n",
    "\n",
    "\\[\n",
    "K \\Phi^{(k)} = M \\Phi^{(k)} \\omega_k^2\n",
    "\\]\n",
    "\n",
    "Esta é a condição de autovalores e autovetores para o sistema, indicando que:\n",
    "\n",
    "\\[\n",
    "\\boxed{K \\Phi^{(k)} = M \\Phi^{(k)} \\omega_k^2}\n",
    "\\]\n",
    "\n",
    "Esta equação mostra que os autovalores \\( \\omega_k^2 \\) são as frequências naturais ao quadrado, e \\( \\Phi^{(k)} \\) são os autovetores correspondentes. Em outras palavras, \\( \\omega_k^2 \\) são os autovalores da matriz generalizada \\( M^{-1} K \\), e \\( \\Phi^{(k)} \\) são os modos de vibração do sistema."
   ]
  },
  {
   "cell_type": "markdown",
   "metadata": {},
   "source": [
    "## EX 04\n"
   ]
  },
  {
   "cell_type": "code",
   "execution_count": null,
   "metadata": {},
   "outputs": [],
   "source": []
  },
  {
   "cell_type": "markdown",
   "metadata": {},
   "source": [
    "## EX 05\n"
   ]
  },
  {
   "cell_type": "code",
   "execution_count": 5,
   "metadata": {},
   "outputs": [],
   "source": [
    "import numpy as np\n",
    "import scipy.sparse as sp\n",
    "import scipy.sparse.linalg as spla\n",
    "import matplotlib.pyplot as plt\n",
    "\n",
    "def index_to_flat(i, j, n_cols):\n",
    "    return i + j * n_cols\n",
    "\n",
    "def create_eigen_matrices(Nx, Ny, tension, density, thickness, dx, dy, radius):\n",
    "    num_unknowns = Nx * Ny\n",
    "\n",
    "    # Matriz de rigidez K: construí-la como uma matriz esparsa\n",
    "    main_diag = 4.0 * np.ones(num_unknowns)\n",
    "    off_diag_x = -1.0 * np.ones(num_unknowns - 1)\n",
    "    off_diag_y = -1.0 * np.ones(num_unknowns - Nx)\n",
    "\n",
    "    K = (tension / dx**2) * sp.diags(\n",
    "        [off_diag_y, off_diag_x, main_diag, off_diag_x, off_diag_y],\n",
    "        [-Nx, -1, 0, 1, Nx], format='csr'\n",
    "    )\n",
    "\n",
    "    # Forçar os autovalores associados aos pontos de contorno\n",
    "    # a serem um número grande em comparação com os modos fundamentais\n",
    "    large_value = 10000\n",
    "    identity_matrix = large_value * sp.identity(num_unknowns, format='csr')\n",
    "\n",
    "    for i in range(Nx):\n",
    "        x_coord = i * dx\n",
    "        for j in range(Ny):\n",
    "            if (x_coord - 0.5)**2 + ((j * dy) - 0.5)**2 > radius**2:\n",
    "                idx = index_to_flat(i, j, Nx)\n",
    "                K[idx, :] = identity_matrix[idx, :]\n",
    "\n",
    "    # Matriz de massa: caso simples, múltiplo da identidade\n",
    "    M = density * thickness * sp.identity(num_unknowns, format='csr')\n",
    "\n",
    "    return K, M\n",
    "\n",
    "def plot_mode_shape(Nx, Ny, Lx, Ly, mode_shape):\n",
    "    x = np.linspace(0, Lx, Nx)\n",
    "    y = np.linspace(0, Ly, Ny)\n",
    "    X, Y = np.meshgrid(x, y)\n",
    "    Z = mode_shape.reshape((Ny, Nx))\n",
    "\n",
    "    fig, ax = plt.subplots()\n",
    "    ax.set_aspect('equal')\n",
    "    ax.set(xlabel='x', ylabel='y', title='Deslocamento vertical')\n",
    "    contour = ax.contourf(X, Y, Z, 20)\n",
    "    ax.contour(X, Y, Z, 20, linewidths=0.25, colors='k')\n",
    "    fig.colorbar(contour, ax=ax)\n",
    "    plt.show()\n",
    "\n",
    "# Parâmetros da grade\n",
    "Nx = 41\n",
    "Ny = 41\n",
    "Lx = 1.0\n",
    "LY= 1.0\n",
    "\n",
    "# Parâmetros do material\n",
    "tension = 1.0\n",
    "density = 1.0\n",
    "thickness = 1.0\n",
    "radius = 0.5\n",
    "\n",
    "# Parâmetros de discretização\n",
    "\n",
    "sigma = 0.1\n",
    "\n",
    "K,M = create_eigen_matrices(Nx, Ny, tension, density, thickness, Lx / (Nx - 1), Ly / (Ny - 1), radius)\n",
    "Lam, Q = scp.sparse.linalg.eigsh(K, k=20, M=M, sigma=sigma)\n",
    "\n",
    "K=14\n",
    "mode = Q[:, K]\n",
    "Wplot = plot_mode_shape(Nx, Ny, Lx, Ly, mode)\n",
    "plot_mode_shape(Nx, Ny, Lx, Ly, mode)\n",
    "\n"
   ]
  },
  {
   "cell_type": "code",
   "execution_count": null,
   "metadata": {},
   "outputs": [],
   "source": []
  },
  {
   "cell_type": "code",
   "execution_count": null,
   "metadata": {},
   "outputs": [],
   "source": []
  }
 ],
 "metadata": {
  "kernelspec": {
   "display_name": "Python 3",
   "language": "python",
   "name": "python3"
  },
  "language_info": {
   "codemirror_mode": {
    "name": "ipython",
    "version": 3
   },
   "file_extension": ".py",
   "mimetype": "text/x-python",
   "name": "python",
   "nbconvert_exporter": "python",
   "pygments_lexer": "ipython3",
   "version": "3.12.3"
  }
 },
 "nbformat": 4,
 "nbformat_minor": 2
}
