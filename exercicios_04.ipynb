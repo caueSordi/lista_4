{
 "cells": [
  {
   "cell_type": "code",
   "execution_count": null,
   "metadata": {},
   "outputs": [],
   "source": []
  },
  {
   "cell_type": "markdown",
   "metadata": {},
   "source": [
    "## Lista_04\n"
   ]
  },
  {
   "cell_type": "code",
   "execution_count": 1,
   "metadata": {},
   "outputs": [],
   "source": [
    "import numpy as np\n",
    "import matplotlib.pylab as plt\n",
    "import scipy as scp\n",
    "from scipy import sparse\n",
    "from plotly.subplots import make_subplots\n",
    "import plotly.graph_objects as go\n",
    "from scipy.sparse import linalg\n",
    "from scipy.sparse import csc_matrix\n",
    "from scipy.stats import ortho_group\n",
    "import time\n",
    "from mpl_toolkits import mplot3d\n",
    "from matplotlib import cm\n"
   ]
  },
  {
   "cell_type": "markdown",
   "metadata": {},
   "source": [
    "### ex 01\n"
   ]
  },
  {
   "cell_type": "code",
   "execution_count": 2,
   "metadata": {},
   "outputs": [],
   "source": [
    "def francis(n, maxi, nook):\n",
    "    k = 0\n",
    "    e = 0\n",
    "    matriz_a = np.zeros((n, n))\n",
    "    V = np.identity(n)\n",
    "\n",
    "    # matriz randomica mas canonica\n",
    "    for i in range(n):\n",
    "        for j in range(i, n):\n",
    "            matriz_a[i, j] = matriz_a[j, i] = np.random.randint(0, 100)\n",
    "            \n",
    "            if i != j and abs(matriz_a[i, j]) > e:\n",
    "                e = abs(matriz_a[i, j])\n",
    "\n",
    "    while e > maxi and k < nook:\n",
    "        Q, R = scp.linalg.qr(matriz_a)\n",
    "\n",
    "        V = R @ V\n",
    "        matriz_a = Q @ R\n",
    "\n",
    "        # Recalculate e (maximum off-diagonal element)\n",
    "        e = 0\n",
    "        for i in range(n):\n",
    "            for j in range(i + 1, n):\n",
    "                if abs(matriz_a[i, j]) > e:\n",
    "                    e = abs(matriz_a[i, j])\n",
    "\n",
    "        k += 1\n",
    "\n",
    "    return matriz_a, V"
   ]
  },
  {
   "cell_type": "code",
   "execution_count": 3,
   "metadata": {},
   "outputs": [
    {
     "data": {
      "text/plain": [
       "[<matplotlib.lines.Line2D at 0x7f6eeab806b0>]"
      ]
     },
     "execution_count": 3,
     "metadata": {},
     "output_type": "execute_result"
    },
    {
     "data": {
      "image/png": "[encoded data removed]",
      "text/plain": [
       "<Figure size 640x480 with 1 Axes>"
      ]
     },
     "metadata": {},
     "output_type": "display_data"
    }
   ],
   "source": [
    "N = [10, 100, 500, 1000]\n",
    "\n",
    "maxi = pow(10, 3)\n",
    "\n",
    "t = 10**-8\n",
    "\n",
    "\n",
    "lista = []\n",
    "\n",
    "for i in N:\n",
    "    t = time.time()\n",
    "    francis(i, maxi, t)\n",
    "    lista.append(time.time() - t)\n",
    "\n",
    "\n",
    "#grafico de n pela lista\n",
    "plt.plot(N, lista)"
   ]
  },
  {
   "cell_type": "code",
   "execution_count": 4,
   "metadata": {},
   "outputs": [
    {
     "data": {
      "application/vnd.plotly.v1+json": {
       "config": {
        "plotlyServerURL": "https://plot.ly"
       },
       "data": [
        {
         "cells": {
          "values": [
           [
            10,
            50,
            100
           ],
           [
            0.020653486251831055,
            5.152334213256836,
            146.0361523628235
           ]
          ]
         },
         "header": {
          "values": [
           "Tamanho (N)",
           "Tempo (s)"
          ]
         },
         "type": "table"
        }
       ],
       "layout": {
        "height": 300,
        "margin": {
         "b": 10,
         "l": 10,
         "r": 10,
         "t": 10
        },
        "template": {
         "data": {
          "bar": [
           {
            "error_x": {
             "color": "#2a3f5f"
            },
            "error_y": {
             "color": "#2a3f5f"
            },
            "marker": {
             "line": {
              "color": "#E5ECF6",
              "width": 0.5
             },
             "pattern": {
              "fillmode": "overlay",
              "size": 10,
              "solidity": 0.2
             }
            },
            "type": "bar"
           }
          ],
          "barpolar": [
           {
            "marker": {
             "line": {
              "color": "#E5ECF6",
              "width": 0.5
             },
             "pattern": {
              "fillmode": "overlay",
              "size": 10,
              "solidity": 0.2
             }
            },
            "type": "barpolar"
           }
          ],
          "carpet": [
           {
            "aaxis": {
             "endlinecolor": "#2a3f5f",
             "gridcolor": "white",
             "linecolor": "white",
             "minorgridcolor": "white",
             "startlinecolor": "#2a3f5f"
            },
            "baxis": {
             "endlinecolor": "#2a3f5f",
             "gridcolor": "white",
             "linecolor": "white",
             "minorgridcolor": "white",
             "startlinecolor": "#2a3f5f"
            },
            "type": "carpet"
           }
          ],
          "choropleth": [
           {
            "colorbar": {
             "outlinewidth": 0,
             "ticks": ""
            },
            "type": "choropleth"
           }
          ],
          "contour": [
           {
            "colorbar": {
             "outlinewidth": 0,
             "ticks": ""
            },
            "colorscale": [
             [
              0,
              "#0d0887"
             ],
             [
              0.1111111111111111,
              "#46039f"
             ],
             [
              0.2222222222222222,
              "#7201a8"
             ],
             [
              0.3333333333333333,
              "#9c179e"
             ],
             [
              0.4444444444444444,
              "#bd3786"
             ],
             [
              0.5555555555555556,
              "#d8576b"
             ],
             [
              0.6666666666666666,
              "#ed7953"
             ],
             [
              0.7777777777777778,
              "#fb9f3a"
             ],
             [
              0.8888888888888888,
              "#fdca26"
             ],
             [
              1,
              "#f0f921"
             ]
            ],
            "type": "contour"
           }
          ],
          "contourcarpet": [
           {
            "colorbar": {
             "outlinewidth": 0,
             "ticks": ""
            },
            "type": "contourcarpet"
           }
          ],
          "heatmap": [
           {
            "colorbar": {
             "outlinewidth": 0,
             "ticks": ""
            },
            "colorscale": [
             [
              0,
              "#0d0887"
             ],
             [
              0.1111111111111111,
              "#46039f"
             ],
             [
              0.2222222222222222,
              "#7201a8"
             ],
             [
              0.3333333333333333,
              "#9c179e"
             ],
             [
              0.4444444444444444,
              "#bd3786"
             ],
             [
              0.5555555555555556,
              "#d8576b"
             ],
             [
              0.6666666666666666,
              "#ed7953"
             ],
             [
              0.7777777777777778,
              "#fb9f3a"
             ],
             [
              0.8888888888888888,
              "#fdca26"
             ],
             [
              1,
              "#f0f921"
             ]
            ],
            "type": "heatmap"
           }
          ],
          "heatmapgl": [
           {
            "colorbar": {
             "outlinewidth": 0,
             "ticks": ""
            },
            "colorscale": [
             [
              0,
              "#0d0887"
             ],
             [
              0.1111111111111111,
              "#46039f"
             ],
             [
              0.2222222222222222,
              "#7201a8"
             ],
             [
              0.3333333333333333,
              "#9c179e"
             ],
             [
              0.4444444444444444,
              "#bd3786"
             ],
             [
              0.5555555555555556,
              "#d8576b"
             ],
             [
              0.6666666666666666,
              "#ed7953"
             ],
             [
              0.7777777777777778,
              "#fb9f3a"
             ],
             [
              0.8888888888888888,
              "#fdca26"
             ],
             [
              1,
              "#f0f921"
             ]
            ],
            "type": "heatmapgl"
           }
          ],
          "histogram": [
           {
            "marker": {
             "pattern": {
              "fillmode": "overlay",
              "size": 10,
              "solidity": 0.2
             }
            },
            "type": "histogram"
           }
          ],
          "histogram2d": [
           {
            "colorbar": {
             "outlinewidth": 0,
             "ticks": ""
            },
            "colorscale": [
             [
              0,
              "#0d0887"
             ],
             [
              0.1111111111111111,
              "#46039f"
             ],
             [
              0.2222222222222222,
              "#7201a8"
             ],
             [
              0.3333333333333333,
              "#9c179e"
             ],
             [
              0.4444444444444444,
              "#bd3786"
             ],
             [
              0.5555555555555556,
              "#d8576b"
             ],
             [
              0.6666666666666666,
              "#ed7953"
             ],
             [
              0.7777777777777778,
              "#fb9f3a"
             ],
             [
              0.8888888888888888,
              "#fdca26"
             ],
             [
              1,
              "#f0f921"
             ]
            ],
            "type": "histogram2d"
           }
          ],
          "histogram2dcontour": [
           {
            "colorbar": {
             "outlinewidth": 0,
             "ticks": ""
            },
            "colorscale": [
             [
              0,
              "#0d0887"
             ],
             [
              0.1111111111111111,
              "#46039f"
             ],
             [
              0.2222222222222222,
              "#7201a8"
             ],
             [
              0.3333333333333333,
              "#9c179e"
             ],
             [
              0.4444444444444444,
              "#bd3786"
             ],
             [
              0.5555555555555556,
              "#d8576b"
             ],
             [
              0.6666666666666666,
              "#ed7953"
             ],
             [
              0.7777777777777778,
              "#fb9f3a"
             ],
             [
              0.8888888888888888,
              "#fdca26"
             ],
             [
              1,
              "#f0f921"
             ]
            ],
            "type": "histogram2dcontour"
           }
          ],
          "mesh3d": [
           {
            "colorbar": {
             "outlinewidth": 0,
             "ticks": ""
            },
            "type": "mesh3d"
           }
          ],
          "parcoords": [
           {
            "line": {
             "colorbar": {
              "outlinewidth": 0,
              "ticks": ""
             }
            },
            "type": "parcoords"
           }
          ],
          "pie": [
           {
            "automargin": true,
            "type": "pie"
           }
          ],
          "scatter": [
           {
            "fillpattern": {
             "fillmode": "overlay",
             "size": 10,
             "solidity": 0.2
            },
            "type": "scatter"
           }
          ],
          "scatter3d": [
           {
            "line": {
             "colorbar": {
              "outlinewidth": 0,
              "ticks": ""
             }
            },
            "marker": {
             "colorbar": {
              "outlinewidth": 0,
              "ticks": ""
             }
            },
            "type": "scatter3d"
           }
          ],
          "scattercarpet": [
           {
            "marker": {
             "colorbar": {
              "outlinewidth": 0,
              "ticks": ""
             }
            },
            "type": "scattercarpet"
           }
          ],
          "scattergeo": [
           {
            "marker": {
             "colorbar": {
              "outlinewidth": 0,
              "ticks": ""
             }
            },
            "type": "scattergeo"
           }
          ],
          "scattergl": [
           {
            "marker": {
             "colorbar": {
              "outlinewidth": 0,
              "ticks": ""
             }
            },
            "type": "scattergl"
           }
          ],
          "scattermapbox": [
           {
            "marker": {
             "colorbar": {
              "outlinewidth": 0,
              "ticks": ""
             }
            },
            "type": "scattermapbox"
           }
          ],
          "scatterpolar": [
           {
            "marker": {
             "colorbar": {
              "outlinewidth": 0,
              "ticks": ""
             }
            },
            "type": "scatterpolar"
           }
          ],
          "scatterpolargl": [
           {
            "marker": {
             "colorbar": {
              "outlinewidth": 0,
              "ticks": ""
             }
            },
            "type": "scatterpolargl"
           }
          ],
          "scatterternary": [
           {
            "marker": {
             "colorbar": {
              "outlinewidth": 0,
              "ticks": ""
             }
            },
            "type": "scatterternary"
           }
          ],
          "surface": [
           {
            "colorbar": {
             "outlinewidth": 0,
             "ticks": ""
            },
            "colorscale": [
             [
              0,
              "#0d0887"
             ],
             [
              0.1111111111111111,
              "#46039f"
             ],
             [
              0.2222222222222222,
              "#7201a8"
             ],
             [
              0.3333333333333333,
              "#9c179e"
             ],
             [
              0.4444444444444444,
              "#bd3786"
             ],
             [
              0.5555555555555556,
              "#d8576b"
             ],
             [
              0.6666666666666666,
              "#ed7953"
             ],
             [
              0.7777777777777778,
              "#fb9f3a"
             ],
             [
              0.8888888888888888,
              "#fdca26"
             ],
             [
              1,
              "#f0f921"
             ]
            ],
            "type": "surface"
           }
          ],
          "table": [
           {
            "cells": {
             "fill": {
              "color": "#EBF0F8"
             },
             "line": {
              "color": "white"
             }
            },
            "header": {
             "fill": {
              "color": "#C8D4E3"
             },
             "line": {
              "color": "white"
             }
            },
            "type": "table"
           }
          ]
         },
         "layout": {
          "annotationdefaults": {
           "arrowcolor": "#2a3f5f",
           "arrowhead": 0,
           "arrowwidth": 1
          },
          "autotypenumbers": "strict",
          "coloraxis": {
           "colorbar": {
            "outlinewidth": 0,
            "ticks": ""
           }
          },
          "colorscale": {
           "diverging": [
            [
             0,
             "#8e0152"
            ],
            [
             0.1,
             "#c51b7d"
            ],
            [
             0.2,
             "#de77ae"
            ],
            [
             0.3,
             "#f1b6da"
            ],
            [
             0.4,
             "#fde0ef"
            ],
            [
             0.5,
             "#f7f7f7"
            ],
            [
             0.6,
             "#e6f5d0"
            ],
            [
             0.7,
             "#b8e186"
            ],
            [
             0.8,
             "#7fbc41"
            ],
            [
             0.9,
             "#4d9221"
            ],
            [
             1,
             "#276419"
            ]
           ],
           "sequential": [
            [
             0,
             "#0d0887"
            ],
            [
             0.1111111111111111,
             "#46039f"
            ],
            [
             0.2222222222222222,
             "#7201a8"
            ],
            [
             0.3333333333333333,
             "#9c179e"
            ],
            [
             0.4444444444444444,
             "#bd3786"
            ],
            [
             0.5555555555555556,
             "#d8576b"
            ],
            [
             0.6666666666666666,
             "#ed7953"
            ],
            [
             0.7777777777777778,
             "#fb9f3a"
            ],
            [
             0.8888888888888888,
             "#fdca26"
            ],
            [
             1,
             "#f0f921"
            ]
           ],
           "sequentialminus": [
            [
             0,
             "#0d0887"
            ],
            [
             0.1111111111111111,
             "#46039f"
            ],
            [
             0.2222222222222222,
             "#7201a8"
            ],
            [
             0.3333333333333333,
             "#9c179e"
            ],
            [
             0.4444444444444444,
             "#bd3786"
            ],
            [
             0.5555555555555556,
             "#d8576b"
            ],
            [
             0.6666666666666666,
             "#ed7953"
            ],
            [
             0.7777777777777778,
             "#fb9f3a"
            ],
            [
             0.8888888888888888,
             "#fdca26"
            ],
            [
             1,
             "#f0f921"
            ]
           ]
          },
          "colorway": [
           "#636efa",
           "#EF553B",
           "#00cc96",
           "#ab63fa",
           "#FFA15A",
           "#19d3f3",
           "#FF6692",
           "#B6E880",
           "#FF97FF",
           "#FECB52"
          ],
          "font": {
           "color": "#2a3f5f"
          },
          "geo": {
           "bgcolor": "white",
           "lakecolor": "white",
           "landcolor": "#E5ECF6",
           "showlakes": true,
           "showland": true,
           "subunitcolor": "white"
          },
          "hoverlabel": {
           "align": "left"
          },
          "hovermode": "closest",
          "mapbox": {
           "style": "light"
          },
          "paper_bgcolor": "white",
          "plot_bgcolor": "#E5ECF6",
          "polar": {
           "angularaxis": {
            "gridcolor": "white",
            "linecolor": "white",
            "ticks": ""
           },
           "bgcolor": "#E5ECF6",
           "radialaxis": {
            "gridcolor": "white",
            "linecolor": "white",
            "ticks": ""
           }
          },
          "scene": {
           "xaxis": {
            "backgroundcolor": "#E5ECF6",
            "gridcolor": "white",
            "gridwidth": 2,
            "linecolor": "white",
            "showbackground": true,
            "ticks": "",
            "zerolinecolor": "white"
           },
           "yaxis": {
            "backgroundcolor": "#E5ECF6",
            "gridcolor": "white",
            "gridwidth": 2,
            "linecolor": "white",
            "showbackground": true,
            "ticks": "",
            "zerolinecolor": "white"
           },
           "zaxis": {
            "backgroundcolor": "#E5ECF6",
            "gridcolor": "white",
            "gridwidth": 2,
            "linecolor": "white",
            "showbackground": true,
            "ticks": "",
            "zerolinecolor": "white"
           }
          },
          "shapedefaults": {
           "line": {
            "color": "#2a3f5f"
           }
          },
          "ternary": {
           "aaxis": {
            "gridcolor": "white",
            "linecolor": "white",
            "ticks": ""
           },
           "baxis": {
            "gridcolor": "white",
            "linecolor": "white",
            "ticks": ""
           },
           "bgcolor": "#E5ECF6",
           "caxis": {
            "gridcolor": "white",
            "linecolor": "white",
            "ticks": ""
           }
          },
          "title": {
           "x": 0.05
          },
          "xaxis": {
           "automargin": true,
           "gridcolor": "white",
           "linecolor": "white",
           "ticks": "",
           "title": {
            "standoff": 15
           },
           "zerolinecolor": "white",
           "zerolinewidth": 2
          },
          "yaxis": {
           "automargin": true,
           "gridcolor": "white",
           "linecolor": "white",
           "ticks": "",
           "title": {
            "standoff": 15
           },
           "zerolinecolor": "white",
           "zerolinewidth": 2
          }
         }
        },
        "width": 600
       }
      }
     },
     "metadata": {},
     "output_type": "display_data"
    }
   ],
   "source": [
    "import numpy as np\n",
    "import scipy.linalg\n",
    "import time\n",
    "import plotly.graph_objects as go\n",
    "\n",
    "# Função para criar uma matriz simétrica\n",
    "def cria_matriz_simetrica(n):\n",
    "    matriz = np.zeros((n, n))\n",
    "    for i in range(n):\n",
    "        for j in range(n):\n",
    "            valor = np.random.randint(0, 100)\n",
    "            matriz[i, j] = valor\n",
    "            matriz[j, i] = valor\n",
    "    return matriz\n",
    "\n",
    "# Implementação do método de Francis para autovalores\n",
    "def metodo_francis(matriz, max_iteracoes, tolerancia, tamanho):\n",
    "    iteracao = 1\n",
    "    V = np.identity(tamanho)\n",
    "    erro = 0.02\n",
    "    while erro > tolerancia and iteracao < max_iteracoes:\n",
    "        Q, R = scipy.linalg.qr(matriz)\n",
    "        matriz = R @ Q\n",
    "        V = V @ Q\n",
    "        erro = 0\n",
    "        for x in range(tamanho):\n",
    "            for y in range(tamanho):\n",
    "                if x != y and abs(matriz[x, y]) > erro:\n",
    "                    erro = abs(matriz[x, y])\n",
    "        iteracao += 1\n",
    "    return matriz\n",
    "\n",
    "# Parâmetros\n",
    "tamanhos = [10, 50, 100]\n",
    "max_iteracoes = 10000\n",
    "tolerancia = 0.01\n",
    "tempos = []\n",
    "\n",
    "# Medição de tempo para diferentes tamanhos de matrizes\n",
    "for tamanho in tamanhos:\n",
    "    matriz = cria_matriz_simetrica(tamanho)\n",
    "    tempo_inicial = time.time()\n",
    "    metodo_francis(matriz, max_iteracoes, tolerancia, tamanho)\n",
    "    tempos.append(time.time() - tempo_inicial)\n",
    "\n",
    "# Criação da tabela para visualização dos tempos\n",
    "figura = go.Figure(data=[go.Table(header=dict(values=['Tamanho (N)', 'Tempo (s)']),\n",
    "                                  cells=dict(values=[tamanhos, tempos]))])\n",
    "figura.update_layout(width=600, height=300, margin=dict(b=10, l=10, r=10, t=10))\n",
    "figura.show()\n"
   ]
  },
  {
   "cell_type": "markdown",
   "metadata": {},
   "source": [
    "### ex 02\n"
   ]
  },
  {
   "cell_type": "code",
   "execution_count": 5,
   "metadata": {},
   "outputs": [
    {
     "name": "stdout",
     "output_type": "stream",
     "text": [
      "MATRIZ GERADA:\n",
      " [[ 5.3   1.6  -0.58 -0.07 -0.03 -0.    0.88 -0.29 -0.88  1.23]\n",
      " [ 1.6   5.13 -0.15  0.37  0.93  0.16 -0.4  -0.73  0.67  0.24]\n",
      " [-0.58 -0.15  4.02  0.06 -0.91  0.75  1.68 -1.14  2.64 -0.49]\n",
      " [-0.07  0.37  0.06  5.32 -0.28  0.47 -0.31 -1.12  0.89 -0.97]\n",
      " [-0.03  0.93 -0.91 -0.28  6.68  1.37 -1.41 -0.46  0.88 -0.95]\n",
      " [-0.    0.16  0.75  0.47  1.37  5.66  0.62  0.35  0.65 -0.7 ]\n",
      " [ 0.88 -0.4   1.68 -0.31 -1.41  0.62  5.5   0.17 -0.17 -2.08]\n",
      " [-0.29 -0.73 -1.14 -1.12 -0.46  0.35  0.17  5.51 -1.28 -0.18]\n",
      " [-0.88  0.67  2.64  0.89  0.88  0.65 -0.17 -1.28  4.71  0.09]\n",
      " [ 1.23  0.24 -0.49 -0.97 -0.95 -0.7  -2.08 -0.18  0.09  7.17]]\n",
      "\n",
      "Autovalores calculados:\n",
      " [ 1.  2.  3.  4.  5.  6.  7.  8.  9. 10.]\n"
     ]
    }
   ],
   "source": [
    "import numpy as np\n",
    "import scipy.stats as scp\n",
    "\n",
    "def criar_matriz_autovalores(n, autovalores):\n",
    "\n",
    "    # Verificação de comprimento dos autovalores\n",
    "    if len(autovalores) != n:\n",
    "        raise ValueError(\"O número de autovalores deve ser igual à dimensão n da matriz.\")\n",
    "\n",
    "    # Criação da matriz diagonal D com os autovalores fornecidos\n",
    "    D = np.diag(autovalores)\n",
    "\n",
    "    # Geração de uma matriz ortogonal aleatória M\n",
    "    M = scp.ortho_group.rvs(n)\n",
    "\n",
    "    # Cálculo da matriz A usando a fórmula A = MDM^{-1}\n",
    "    A = M @ D @ np.linalg.inv(M)\n",
    "\n",
    "    return A\n",
    "\n",
    "# Teste da função\n",
    "n = 10\n",
    "autovalores = [1, 2, 3, 4, 5, 6, 7, 8, 9, 10]\n",
    "\n",
    "A = criar_matriz_autovalores(n, autovalores)\n",
    "print(\"MATRIZ GERADA:\\n\", np.round(A, 2))\n",
    "\n",
    "# Verificação dos autovalores da matriz gerada\n",
    "autovalores_calculados, _ = np.linalg.eigh(A)\n",
    "print(\"\\nAutovalores calculados:\\n\", np.round(autovalores_calculados, 2))\n"
   ]
  },
  {
   "cell_type": "code",
   "execution_count": null,
   "metadata": {},
   "outputs": [],
   "source": []
  },
  {
   "cell_type": "markdown",
   "metadata": {},
   "source": [
    "## 3"
   ]
  },
  {
   "cell_type": "markdown",
   "metadata": {},
   "source": []
  },
  {
   "cell_type": "markdown",
   "metadata": {},
   "source": [
    "$\\begin{cases}Mw''+Kw=0\\\\\\\\ w(t)=\\sum ^n_{k=1}\\Phi^{(k)}*c_k*\\sin(\\omega_k t + \\phi)\\\\\\\\ w''(t)=-\\sum^n_{k=1}\\Phi^{(k)}\\sin(\\omega_k t + \\phi)\\omega_k²\\end{cases}\\;\\;\\Rightarrow -\\left(M * \\sum^n_{k=1}\\Phi^{(k)}\\sin(\\omega_k t + \\phi)\\omega_k²\\right) + K \\sum ^n_{k=1}\\Phi^{(k)}*c_k*\\sin(\\omega_k t + \\phi)=0 \\Rightarrow \\boxed{K\\Phi^{(k)} = M\\Phi^{(k)} \\omega²_k}$ "
   ]
  },
  {
   "cell_type": "markdown",
   "metadata": {},
   "source": [
    "\n",
    "## EX 04\n",
    "$$w(x,y,0)=U_0=\\Sigma^n_{k=1}(\\Phi^{(k)}c_k\\sin(\\phi _k))\\\\ \\rightarrow $$"
   ]
  },
  {
   "cell_type": "code",
   "execution_count": null,
   "metadata": {},
   "outputs": [],
   "source": []
  },
  {
   "cell_type": "markdown",
   "metadata": {},
   "source": [
    "## EX 05\n"
   ]
  },
  {
   "cell_type": "code",
   "execution_count": 6,
   "metadata": {},
   "outputs": [
    {
     "data": {
      "image/png": "[encoded data removed]",
      "text/plain": [
       "<Figure size 640x480 with 2 Axes>"
      ]
     },
     "metadata": {},
     "output_type": "display_data"
    }
   ],
   "source": [
    "import numpy as np\n",
    "import scipy as scp\n",
    "import scipy.sparse\n",
    "import scipy.sparse.linalg\n",
    "import matplotlib.pyplot as plt\n",
    "from mpl_toolkits.mplot3d import Axes3D\n",
    "from matplotlib import cm\n",
    "\n",
    "# Função para plotar as curvas de nível constante de temperatura\n",
    "def plota_membrana(num_x, num_y, comprimento_x, comprimento_y, deslocamento):\n",
    "    x = np.linspace(0, comprimento_x, num_x)\n",
    "    y = np.linspace(0, comprimento_y, num_y)\n",
    "    X, Y = np.meshgrid(x, y)\n",
    "    Z = np.copy(deslocamento)\n",
    "    fig, ax = plt.subplots()\n",
    "    ax.set_aspect('equal')\n",
    "    ax.set(xlabel='x', ylabel='y', title='Deslocamento vertical')\n",
    "    contornos = ax.contourf(X, Y, Z, 20)\n",
    "    contornos_linha = ax.contour(X, Y, Z, 20, linewidths=0.25, colors='k')\n",
    "    fig.colorbar(contornos, ax=ax)\n",
    "    plt.show()\n",
    "\n",
    "# Função para plotar a superfície 3D do deslocamento\n",
    "def plota_superficie(num_x, num_y, comprimento_x, comprimento_y, deslocamento):\n",
    "    x = np.linspace(0, comprimento_x, num_x)\n",
    "    y = np.linspace(0, comprimento_y, num_y)\n",
    "    X, Y = np.meshgrid(x, y)\n",
    "    Z = np.copy(deslocamento)\n",
    "    fig = plt.figure()\n",
    "    ax = fig.add_subplot(111, projection='3d')\n",
    "    ax.plot_surface(X, Y, Z, cmap='viridis', edgecolor='none')\n",
    "    ax.set(xlabel='x', ylabel='y', title='Deslocamento vertical')\n",
    "    ax.set_zlim(-1.01, 1.01)\n",
    "    ax.plot_surface(X, Y, Z, cmap=cm.coolwarm, linewidth=0, antialiased=False)\n",
    "    plt.show()\n",
    "\n",
    "# Função para converter índices i, j em um índice único\n",
    "def ij_para_n(i, j, num):\n",
    "    return i + j * num\n",
    "\n",
    "# Função para construir a matriz de rigidez e massa para uma membrana circular\n",
    "def construir_matriz_circular(num, sigma, densidade, espessura, raio):\n",
    "    num_incognitas = num ** 2\n",
    "    h = 1 / (num - 1)\n",
    "    \n",
    "    # Matriz de rigidez K\n",
    "    d1 = 4.0 * np.ones(num_incognitas)\n",
    "    d2 = -np.ones(num_incognitas - 1)\n",
    "    d3 = -np.ones(num_incognitas - num)\n",
    "    K = (sigma / h ** 2) * scp.sparse.diags([d3, d2, d1, d2, d3], [-num, -1, 0, 1, num], format='csr')\n",
    "    \n",
    "    # Número grande para bordas\n",
    "    numero_grande = 1000000\n",
    "    Iden = numero_grande * scp.sparse.identity(num_incognitas, format='csr')\n",
    "    \n",
    "    for i in range(num):\n",
    "        xi = i * h\n",
    "        for j in range(num):\n",
    "            yj = j * h\n",
    "            if np.sqrt((xi - 0.5) ** 2 + (yj - 0.5) ** 2) > raio:\n",
    "                Ic = ij_para_n(i, j, num)\n",
    "                K[Ic, :] = Iden[Ic, :]\n",
    "    \n",
    "    # Matriz de massa M\n",
    "    M = densidade * espessura * scp.sparse.identity(num_incognitas, format='csr')\n",
    "    return K, M\n",
    "\n",
    "# Função para construir a matriz de rigidez e massa com densidade variável\n",
    "def construir_matriz_var_rho(num_x, num_y, comprimento_x, comprimento_y, sigma, espessura):\n",
    "    num_incognitas = num_x * num_y\n",
    "    dx = comprimento_x / (num_x - 1)\n",
    "    dy = comprimento_y / (num_y - 1)\n",
    "    \n",
    "    # Matriz de rigidez K\n",
    "    d1 = 4.0 * np.ones(num_incognitas)\n",
    "    d2 = -1.0 * np.ones(num_incognitas - 1)\n",
    "    d3 = -1.0 * np.ones(num_incognitas - num_x)\n",
    "    K = (sigma / dx ** 2) * scp.sparse.diags([d3, d2, d1, d2, d3], [-num_x, -1, 0, 1, num_x], format='csr')\n",
    "    M = scp.sparse.identity(num_incognitas, format='csr')\n",
    "    \n",
    "    # Número grande para bordas\n",
    "    numero_grande = 10000\n",
    "    Iden = numero_grande * scp.sparse.identity(num_incognitas, format='csr')\n",
    "    \n",
    "    # colunas esquerda e direita\n",
    "    for k in range(num_y):\n",
    "        Ic = ij_para_n(0, k, num_x)  # Esquerdo\n",
    "        K[Ic, :], K[:, Ic] = Iden[Ic, :], Iden[:, Ic]\n",
    "        \n",
    "        Ic = ij_para_n(num_x - 1, k, num_x)  # Direito\n",
    "        K[Ic, :], K[:, Ic] = Iden[Ic, :], Iden[:, Ic]\n",
    "    \n",
    "    # linha inferior e superior\n",
    "    for k in range(num_x):\n",
    "        Ic = ij_para_n(k, 0, num_x)  # Inferior\n",
    "        K[Ic, :], K[:, Ic] = Iden[Ic, :], Iden[:, Ic]\n",
    "        \n",
    "        Ic = ij_para_n(k, num_y - 1, num_x)  # Superior\n",
    "        K[Ic, :], K[:, Ic] = Iden[Ic, :], Iden[:, Ic]\n",
    "    \n",
    "    for i in range(num_x):\n",
    "        xij = i * dx\n",
    "        for j in range(num_y):\n",
    "            yij = j * dy\n",
    "            Ic = ij_para_n(i, j, num_x)\n",
    "            M[Ic, Ic] = (1 + 0.75 * np.cos(4 * np.pi * xij) * np.cos(2 * np.pi * yij)) * espessura\n",
    "    \n",
    "    return K, M\n",
    "\n",
    "# Parâmetros do problema\n",
    "densidade = 1\n",
    "espessura = 1\n",
    "sigma = 1\n",
    "num_pontos = 41\n",
    "raio = 0.5\n",
    "\n",
    "# Construção das matrizes K e M\n",
    "K, M = construir_matriz_circular(num_pontos, sigma, densidade, espessura, raio)\n",
    "\n",
    "# Cálculo dos autovalores e autovetores\n",
    "autovalores, autovetores = scp.sparse.linalg.eigsh(K, k=14, M=M, which='SM')\n",
    "frequencias_omega = np.sqrt(autovalores)\n",
    "indice_modo = 13\n",
    "modo_vibracao = autovetores[:, indice_modo]\n",
    "deslocamento_plot = modo_vibracao.reshape(num_pontos, num_pontos)\n",
    "\n",
    "# Plotagem da membrana\n",
    "plota_membrana(num_pontos, num_pontos, 1, 1, deslocamento_plot)\n"
   ]
  },
  {
   "cell_type": "code",
   "execution_count": null,
   "metadata": {},
   "outputs": [],
   "source": []
  },
  {
   "cell_type": "code",
   "execution_count": 7,
   "metadata": {},
   "outputs": [
    {
     "ename": "TypeError",
     "evalue": "construir_matriz_circular() takes 5 positional arguments but 6 were given",
     "output_type": "error",
     "traceback": [
      "\u001b[0;31m---------------------------------------------------------------------------\u001b[0m",
      "\u001b[0;31mTypeError\u001b[0m                                 Traceback (most recent call last)",
      "Cell \u001b[0;32mIn[7], line 7\u001b[0m\n\u001b[1;32m      5\u001b[0m N1\u001b[38;5;241m=\u001b[39m\u001b[38;5;241m40\u001b[39m\n\u001b[1;32m      6\u001b[0m N2\u001b[38;5;241m=\u001b[39m\u001b[38;5;241m20\u001b[39m\n\u001b[0;32m----> 7\u001b[0m K,M \u001b[38;5;241m=\u001b[39m \u001b[43mconstruir_matriz_circular\u001b[49m\u001b[43m \u001b[49m\u001b[43m(\u001b[49m\u001b[43mN1\u001b[49m\u001b[43m,\u001b[49m\u001b[43m \u001b[49m\u001b[43mN2\u001b[49m\u001b[43m,\u001b[49m\u001b[43m \u001b[49m\u001b[43mL1\u001b[49m\u001b[43m,\u001b[49m\u001b[43m \u001b[49m\u001b[43mL2\u001b[49m\u001b[43m,\u001b[49m\u001b[43m \u001b[49m\u001b[43msigma\u001b[49m\u001b[43m,\u001b[49m\u001b[43m \u001b[49m\u001b[43me\u001b[49m\u001b[43m)\u001b[49m\n\u001b[1;32m      8\u001b[0m Lam, Q \u001b[38;5;241m=\u001b[39m scp\u001b[38;5;241m.\u001b[39msparse\u001b[38;5;241m.\u001b[39mlinalg\u001b[38;5;241m.\u001b[39meigsh(K, k\u001b[38;5;241m=\u001b[39m\u001b[38;5;241m14\u001b[39m, M\u001b[38;5;241m=\u001b[39mM, which\u001b[38;5;241m=\u001b[39m\u001b[38;5;124m'\u001b[39m\u001b[38;5;124mSM\u001b[39m\u001b[38;5;124m'\u001b[39m)\n\u001b[1;32m      9\u001b[0m omegas \u001b[38;5;241m=\u001b[39m np\u001b[38;5;241m.\u001b[39msqrt(Lam)\n",
      "\u001b[0;31mTypeError\u001b[0m: construir_matriz_circular() takes 5 positional arguments but 6 were given"
     ]
    }
   ],
   "source": [
    "e=1\n",
    "sigma=1\n",
    "L1=1\n",
    "L2=0.5\n",
    "N1=40\n",
    "N2=20\n",
    "K,M = construir_matriz_circular (N1, N2, L1, L2, sigma, e)\n",
    "Lam, Q = scp.sparse.linalg.eigsh(K, k=14, M=M, which='SM')\n",
    "omegas = np.sqrt(Lam)\n",
    "k = 13\n",
    "mode = Q[:,k]\n",
    "Wplot = mode.reshape(N2,N1)\n",
    "plota_membrana (N1,N2,L1,L2,Wplot)"
   ]
  }
 ],
 "metadata": {
  "kernelspec": {
   "display_name": "Python 3",
   "language": "python",
   "name": "python3"
  },
  "language_info": {
   "codemirror_mode": {
    "name": "ipython",
    "version": 3
   },
   "file_extension": ".py",
   "mimetype": "text/x-python",
   "name": "python",
   "nbconvert_exporter": "python",
   "pygments_lexer": "ipython3",
   "version": "3.12.3"
  }
 },
 "nbformat": 4,
 "nbformat_minor": 2
}
